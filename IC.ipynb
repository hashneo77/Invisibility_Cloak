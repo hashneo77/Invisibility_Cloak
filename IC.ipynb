{
 "cells": [
  {
   "cell_type": "code",
   "execution_count": 1,
   "metadata": {},
   "outputs": [],
   "source": [
    "import cv2\n",
    "import numpy as np\n",
    "import time\n",
    "import argparse\n",
    "\n",
    "\n",
    "# Creating an VideoCapture object\n",
    "# This will be used for image acquisition later in the code.\n",
    "cap = cv2.VideoCapture(0)\n",
    "\n",
    "# We give some time for the camera to setup\n",
    "time.sleep(3)\n",
    "count = 0\n",
    "background=0\n",
    "\n",
    "# Capturing and storing the static background frame\n",
    "for i in range(60):\n",
    "    ret,background = cap.read()\n",
    "\n",
    "#background = np.flip(background,axis=1)\n",
    "\n",
    "while(cap.isOpened()):\n",
    "\tret, img = cap.read()\n",
    "\tif not ret:\n",
    "\t\tbreak\n",
    "\tcount+=1\n",
    "\t#img = np.flip(img,axis=1)\n",
    "\t\n",
    "\t# Converting the color space from BGR to HSV\n",
    "\thsv = cv2.cvtColor(img, cv2.COLOR_BGR2HSV)\n",
    "\n",
    "\t# Generating mask to detect red color\n",
    "\tlower_red = np.array([0,120,70])\n",
    "\tupper_red = np.array([10,255,255])\n",
    "\tmask1 = cv2.inRange(hsv,lower_red,upper_red)\n",
    "\n",
    "\tlower_red = np.array([170,120,70])\n",
    "\tupper_red = np.array([180,255,255])\n",
    "\tmask2 = cv2.inRange(hsv,lower_red,upper_red)\n",
    "\n",
    "\tmask1 = mask1+mask2\n",
    "\n",
    "\t# Refining the mask corresponding to the detected red color\n",
    "\tmask1 = cv2.morphologyEx(mask1, cv2.MORPH_OPEN, np.ones((3,3),np.uint8),iterations=2)\n",
    "\tmask1 = cv2.dilate(mask1,np.ones((3,3),np.uint8),iterations = 1)\n",
    "\tmask2 = cv2.bitwise_not(mask1)\n",
    "\n",
    "\t# Generating the final output\n",
    "\tres1 = cv2.bitwise_and(background,background,mask=mask1)\n",
    "\tres2 = cv2.bitwise_and(img,img,mask=mask2)\n",
    "\tfinal_output = cv2.addWeighted(res1,1,res2,1,0)\n",
    "\n",
    "\tcv2.imshow('Magic !!!',final_output)\n",
    "\tk = cv2.waitKey(10)\n",
    "\tif k == 27:\n",
    "\t\tbreak\n"
   ]
  },
  {
   "cell_type": "code",
   "execution_count": null,
   "metadata": {},
   "outputs": [],
   "source": []
  }
 ],
 "metadata": {
  "kernelspec": {
   "display_name": "Python 3",
   "language": "python",
   "name": "python3"
  },
  "language_info": {
   "codemirror_mode": {
    "name": "ipython",
    "version": 3
   },
   "file_extension": ".py",
   "mimetype": "text/x-python",
   "name": "python",
   "nbconvert_exporter": "python",
   "pygments_lexer": "ipython3",
   "version": "3.7.1"
  }
 },
 "nbformat": 4,
 "nbformat_minor": 2
}
